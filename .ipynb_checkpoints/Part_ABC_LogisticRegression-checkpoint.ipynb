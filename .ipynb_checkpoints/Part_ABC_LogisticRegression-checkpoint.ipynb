{
 "cells": [
  {
   "cell_type": "code",
   "execution_count": 75,
   "metadata": {},
   "outputs": [],
   "source": [
    "import functions as fx\n",
    "import log_reg_functions as lrf\n",
    "import loaddata as ld\n",
    "import NeuralNetwork as nn\n",
    "\n",
    "import numpy as np\n",
    "import time\n",
    "import matplotlib.pyplot as plt\n",
    "import pandas as pd\n",
    "import os\n",
    "\n",
    "import scikitplot as skplt\n",
    "from sklearn.model_selection import train_test_split\n",
    "from sklearn.compose import ColumnTransformer\n",
    "from sklearn.preprocessing import StandardScaler, OneHotEncoder\n",
    "from sklearn.linear_model import LogisticRegression\n",
    "from sklearn.metrics import accuracy_score, log_loss, f1_score, confusion_matrix, roc_auc_score"
   ]
  },
  {
   "cell_type": "markdown",
   "metadata": {},
   "source": [
    "# A ) \n",
    "Here we will load the dataset, then split it into train, validation and test data. \n",
    "As the Credit Card data is biased, we also create a downzised dataset."
   ]
  },
  {
   "cell_type": "code",
   "execution_count": 76,
   "metadata": {},
   "outputs": [],
   "source": [
    "# Reading in credit card dataset.\n",
    "x,y = ld.load_data(scaler='minmax')\n",
    "\n",
    "# Splitting data in train and test data\n",
    "xtrain,xtest,ytrain,ytest = train_test_split(x,y, test_size=0.20, random_state= 0, shuffle=True, stratify=y)\n",
    "\n",
    "# Splitting in train and validation\n",
    "#xtrain,xval,ytrain,yval = train_test_split(xtrain,ytrain, test_size=0.25, random_state= 0, shuffle=True, stratify=ytrain)"
   ]
  },
  {
   "cell_type": "code",
   "execution_count": 77,
   "metadata": {},
   "outputs": [
    {
     "name": "stdout",
     "output_type": "stream",
     "text": [
      "0.22120833333333334\n"
     ]
    }
   ],
   "source": [
    "# Justerer traningsdata \n",
    "print(np.sum(ytrain)/len(ytrain))\n"
   ]
  },
  {
   "cell_type": "code",
   "execution_count": 78,
   "metadata": {},
   "outputs": [],
   "source": [
    "# Extracting all datapoints where the output is 1 (i.e paying credit card dept).\n",
    "indices = np.where(ytrain == 1)\n",
    "indices_zero = np.where(ytrain == 0)\n",
    "# Randomly extracting equal amount of datapoints where the output is 0 (i.e defaulting).\n",
    "datapoints = np.random.choice(indices_zero[0], size=ytrain[indices[0]].shape[0], replace=False)\n",
    "\n",
    "#Stacking the two datasets\n",
    "x_new = np.vstack((xtrain[indices[0],:],xtrain[datapoints,:]))\n",
    "y_new = np.vstack((ytrain[indices[0]],ytrain[datapoints]))\n",
    "\n",
    "# Renaming data\n",
    "xtrain = x_new\n",
    "ytrain = y_new\n",
    "\n",
    "# Extracting some useful shapes.\n",
    "nx_train, ny_train = xtrain.shape\n",
    "nx_test, ny_test = xtest.shape\n",
    "\n",
    "# her er en diskusjon på sin plass.. "
   ]
  },
  {
   "cell_type": "code",
   "execution_count": 79,
   "metadata": {},
   "outputs": [
    {
     "name": "stdout",
     "output_type": "stream",
     "text": [
      "10618\n",
      "6000\n"
     ]
    }
   ],
   "source": [
    "print(nx_train)\n",
    "print(nx_test)"
   ]
  },
  {
   "cell_type": "markdown",
   "metadata": {},
   "source": [
    "# B) \n",
    "Egen logistic regression med gradient descent.\n"
   ]
  },
  {
   "cell_type": "code",
   "execution_count": 80,
   "metadata": {},
   "outputs": [
    {
     "name": "stdout",
     "output_type": "stream",
     "text": [
      "1.4572908878326416\n"
     ]
    }
   ],
   "source": [
    "eta = 0.1 # learning rate\n",
    "doplot = False\n",
    "doprint = False\n",
    "Niteration = 250\n",
    "beta = np.random.randn(x.shape[1],1)\n",
    "costvec=[]\n",
    "costvec_val=[]\n",
    "loglvec=[]\n",
    "xaxis=[]\n",
    "\n",
    "%matplotlib qt\n",
    "#plt.axis([0, Niteration, 0, 13])\n",
    "\n",
    "start = time.time()\n",
    "for iter in range(Niteration):\n",
    "    \n",
    "    sig = lrf.sigmoid(xtrain@beta)\n",
    "    gradient = lrf.gradient_ols(xtrain,ytrain,sig)\n",
    "    beta -= eta*gradient\n",
    "    \n",
    "    #Cost function\n",
    "    cost = lrf.cost_log_ols(xtrain@beta,ytrain.T)\n",
    "    #cost_val = lrf.cost_log_ols(xval@beta,yval.T) # do this for testdata at the end. \n",
    "    \n",
    "    #Log Loss function from sklearn\n",
    "    logloss=log_loss(ytrain, np.round(xtrain@beta), eps=1e-16, normalize=True)\n",
    "    if doprint:\n",
    "        print('Cost', cost,'&','Log loss', logloss,'&','Cost test', cost_val)\n",
    "    if doplot:\n",
    "        costvec.append(cost.ravel())\n",
    "        #costvec_val.append(cost_val.ravel())\n",
    "        loglvec.append(logloss)\n",
    "        xaxis.append(iter+1)\n",
    "        plt.plot(xaxis, costvec, 'b')\n",
    "        #plt.plot(xaxis, costvec_val, 'r')\n",
    "        #plt.plot(xaxis, loglvec, 'g')\n",
    "        plt.pause(1e-12)\n",
    "plt.show()    \n",
    "end = time.time()\n",
    "print(end - start)\n",
    "   \n",
    "# et relevant plot er iterativt plot. "
   ]
  },
  {
   "cell_type": "code",
   "execution_count": 81,
   "metadata": {},
   "outputs": [
    {
     "name": "stdout",
     "output_type": "stream",
     "text": [
      "[[3557 1116]\n",
      " [ 598  729]]\n"
     ]
    }
   ],
   "source": [
    "# making confusion matrix to check observed data with model predictions. \n",
    "\n",
    "predictions = xtest@beta\n",
    "sig_val = lrf.sigmoid(predictions)\n",
    "sig_val = np.round(sig_val)\n",
    "\n",
    "cm = confusion_matrix(ytest , sig_val.astype(int))\n",
    "print(cm)"
   ]
  },
  {
   "cell_type": "markdown",
   "metadata": {},
   "source": [
    "# Accuracy. \n",
    "Både egen kode og tester med scikit. "
   ]
  },
  {
   "cell_type": "code",
   "execution_count": 82,
   "metadata": {},
   "outputs": [
    {
     "name": "stdout",
     "output_type": "stream",
     "text": [
      "65.15351290261819 % Training Accuracy\n",
      "0.6155444721529509 F1-score\n",
      "71.46666666666667 % Validation Accuracy\n",
      "0.46050420168067224 F1-score\n",
      "71.43333333333334 % Test Accuracy\n",
      "0.45964691046658257 F1-score\n"
     ]
    }
   ],
   "source": [
    "\n",
    "activation =lrf.sigmoid(xtrain@beta) \n",
    "classes = np.zeros([len(activation)])\n",
    "classes=np.round(activation)\n",
    "print(100*np.sum(classes==ytrain)/len(activation),'% Training Accuracy')\n",
    "print(f1_score(ytrain, classes), 'F1-score')\n",
    "\n",
    "activation =lrf.sigmoid(xval@beta) \n",
    "classes = np.zeros([len(activation)])\n",
    "classes=np.round(activation)\n",
    "print(100*np.sum(classes==yval)/len(activation),'% Validation Accuracy')\n",
    "print(f1_score(yval, classes), 'F1-score')\n",
    "\n",
    "\n",
    "activation =lrf.sigmoid(xtest@beta) \n",
    "classes = np.zeros([len(activation)])\n",
    "classes=np.round(activation)\n",
    "print(100*np.sum(classes==ytest)/len(activation),'% Test Accuracy')\n",
    "print(f1_score(ytest, classes), 'F1-score')\n",
    "\n"
   ]
  },
  {
   "cell_type": "code",
   "execution_count": 90,
   "metadata": {},
   "outputs": [
    {
     "data": {
      "text/plain": [
       "<Figure size 432x288 with 0 Axes>"
      ]
     },
     "metadata": {},
     "output_type": "display_data"
    },
    {
     "data": {
      "image/png": "[encoded data removed]",
      "text/plain": [
       "<Figure size 432x288 with 1 Axes>"
      ]
     },
     "metadata": {
      "needs_background": "light"
     },
     "output_type": "display_data"
    }
   ],
   "source": [
    "def bestCurve(y):\n",
    "    defaults = sum(y == 1)\n",
    "    total = len(y)\n",
    "    x = np.linspace(0, 1, total)\n",
    "    y1 = np.linspace(0, 1, defaults)\n",
    "    y2 = np.ones(total-defaults)\n",
    "    y3 = np.concatenate([y1,y2])\n",
    "    return x, y3\n",
    "\n",
    "\n",
    "\n",
    "\n",
    "# Plotting AUC with gradient descent \n",
    "\n",
    "predictions = xtest@beta\n",
    "y_probas = lrf.sigmoid(predictions)\n",
    "\n",
    "y_probas = y_probas.flatten()\n",
    "y_temp = np.zeros((y_probas.shape[0], 2))\n",
    "y_temp[:,0] = 1-y_probas\n",
    "y_temp[:,1] = y_probas \n",
    "y_probas = y_temp\n",
    "\n",
    "%matplotlib inline\n",
    "fig = plt.figure()\n",
    "skplt.metrics.plot_cumulative_gain(ytest, y_probas)\n",
    "\n",
    "plt.show()\n"
   ]
  },
  {
   "cell_type": "markdown",
   "metadata": {},
   "source": [
    "# Egen logistisk regresjon med stokastisk gradient descent"
   ]
  },
  {
   "cell_type": "code",
   "execution_count": 84,
   "metadata": {},
   "outputs": [
    {
     "name": "stdout",
     "output_type": "stream",
     "text": [
      "1.7784850597381592\n"
     ]
    }
   ],
   "source": [
    "eta = 0.1 # learning rate\n",
    "doplot = False\n",
    "doprint = False\n",
    "Niteration = 250\n",
    "batch_size = 3000\n",
    "batch_size_held_out = nx_train-batch_size\n",
    "\n",
    "beta = np.random.randn(x.shape[1],1)\n",
    "costvec=[]\n",
    "costvec_test=[]\n",
    "loglvec=[]\n",
    "xaxis=[]\n",
    "\n",
    "%matplotlib qt\n",
    "#plt.axis([0, Niteration, 0, 13])\n",
    "\n",
    "indexes = np.arange(nx_train)\n",
    "\n",
    "\n",
    "start = time.time()\n",
    "for iter in range(Niteration):\n",
    "    datapoints = np.random.choice(indexes, size=batch_size, replace=False)\n",
    "    batch_x = xtrain[datapoints,:]\n",
    "    batch_y = ytrain[datapoints]\n",
    "    \n",
    "    batch_x_held_out = np.delete(xtrain, datapoints, axis=0)\n",
    "    batch_y_held_out = np.delete(ytrain, datapoints).reshape([batch_size_held_out,1])\n",
    "    \n",
    "    sig = lrf.sigmoid(batch_x@beta)\n",
    "    gradient = lrf.gradient_ols(batch_x,batch_y,sig)\n",
    "    beta -= eta*gradient\n",
    "    \n",
    "    #Cost function\n",
    "    cost = lrf.cost_log_ols(batch_x@beta,batch_y.T)\n",
    "    cost_test = lrf.cost_log_ols(batch_x_held_out@beta,batch_y_held_out.T)\n",
    "    #Log Loss function from sklearn\n",
    "    if doprint:\n",
    "        logloss=log_loss(batch_y, np.round(batch_x@beta), eps=1e-16, normalize=True)\n",
    "        print('Cost', cost,'&','Log loss', logloss,'&','Cost test', cost_test)\n",
    "    if doplot:\n",
    "        costvec.append(cost.ravel())\n",
    "        costvec_test.append(cost_test.ravel())\n",
    "        xaxis.append(iter+1)\n",
    "        plt.plot(xaxis, costvec, 'b')\n",
    "        plt.plot(xaxis, costvec_test, 'r')\n",
    "        plt.pause(1e-12)\n",
    "plt.show()\n",
    "\n",
    "end = time.time()\n",
    "print(end - start)\n",
    " "
   ]
  },
  {
   "cell_type": "code",
   "execution_count": 85,
   "metadata": {},
   "outputs": [
    {
     "name": "stdout",
     "output_type": "stream",
     "text": [
      "[[3677  996]\n",
      " [ 571  756]]\n"
     ]
    }
   ],
   "source": [
    "# making confusion matrix to check observed data with model predictions. \n",
    "\n",
    "predictions = xtest@beta\n",
    "sig_val = lrf.sigmoid(predictions)\n",
    "sig_val = np.round(sig_val)\n",
    "\n",
    "cm = confusion_matrix(ytest , sig_val.astype(int))\n",
    "print(cm)\n",
    "\n"
   ]
  },
  {
   "cell_type": "code",
   "execution_count": 58,
   "metadata": {},
   "outputs": [
    {
     "ename": "ValueError",
     "evalue": "Found input variables with inconsistent numbers of samples: [10618, 6000]",
     "output_type": "error",
     "traceback": [
      "\u001b[0;31m---------------------------------------------------------------------------\u001b[0m",
      "\u001b[0;31mValueError\u001b[0m                                Traceback (most recent call last)",
      "\u001b[0;32m<ipython-input-58-d2991126f5b7>\u001b[0m in \u001b[0;36m<module>\u001b[0;34m\u001b[0m\n\u001b[1;32m      2\u001b[0m \u001b[0;34m\u001b[0m\u001b[0m\n\u001b[1;32m      3\u001b[0m \u001b[0;34m\u001b[0m\u001b[0m\n\u001b[0;32m----> 4\u001b[0;31m \u001b[0mskplt\u001b[0m\u001b[0;34m.\u001b[0m\u001b[0mmetrics\u001b[0m\u001b[0;34m.\u001b[0m\u001b[0mplot_confusion_matrix\u001b[0m\u001b[0;34m(\u001b[0m\u001b[0mytrain\u001b[0m\u001b[0;34m,\u001b[0m \u001b[0mpredictions\u001b[0m\u001b[0;34m,\u001b[0m \u001b[0mnormalize\u001b[0m\u001b[0;34m=\u001b[0m\u001b[0;32mTrue\u001b[0m\u001b[0;34m)\u001b[0m\u001b[0;34m\u001b[0m\u001b[0;34m\u001b[0m\u001b[0m\n\u001b[0m\u001b[1;32m      5\u001b[0m \u001b[0;34m\u001b[0m\u001b[0m\n\u001b[1;32m      6\u001b[0m \u001b[0mplt\u001b[0m\u001b[0;34m.\u001b[0m\u001b[0mshow\u001b[0m\u001b[0;34m(\u001b[0m\u001b[0;34m)\u001b[0m\u001b[0;34m\u001b[0m\u001b[0;34m\u001b[0m\u001b[0m\n",
      "\u001b[0;32m//anaconda3/lib/python3.7/site-packages/scikitplot/metrics.py\u001b[0m in \u001b[0;36mplot_confusion_matrix\u001b[0;34m(y_true, y_pred, labels, true_labels, pred_labels, title, normalize, hide_zeros, hide_counts, x_tick_rotation, ax, figsize, cmap, title_fontsize, text_fontsize)\u001b[0m\n\u001b[1;32m    115\u001b[0m         \u001b[0mfig\u001b[0m\u001b[0;34m,\u001b[0m \u001b[0max\u001b[0m \u001b[0;34m=\u001b[0m \u001b[0mplt\u001b[0m\u001b[0;34m.\u001b[0m\u001b[0msubplots\u001b[0m\u001b[0;34m(\u001b[0m\u001b[0;36m1\u001b[0m\u001b[0;34m,\u001b[0m \u001b[0;36m1\u001b[0m\u001b[0;34m,\u001b[0m \u001b[0mfigsize\u001b[0m\u001b[0;34m=\u001b[0m\u001b[0mfigsize\u001b[0m\u001b[0;34m)\u001b[0m\u001b[0;34m\u001b[0m\u001b[0;34m\u001b[0m\u001b[0m\n\u001b[1;32m    116\u001b[0m \u001b[0;34m\u001b[0m\u001b[0m\n\u001b[0;32m--> 117\u001b[0;31m     \u001b[0mcm\u001b[0m \u001b[0;34m=\u001b[0m \u001b[0mconfusion_matrix\u001b[0m\u001b[0;34m(\u001b[0m\u001b[0my_true\u001b[0m\u001b[0;34m,\u001b[0m \u001b[0my_pred\u001b[0m\u001b[0;34m,\u001b[0m \u001b[0mlabels\u001b[0m\u001b[0;34m=\u001b[0m\u001b[0mlabels\u001b[0m\u001b[0;34m)\u001b[0m\u001b[0;34m\u001b[0m\u001b[0;34m\u001b[0m\u001b[0m\n\u001b[0m\u001b[1;32m    118\u001b[0m     \u001b[0;32mif\u001b[0m \u001b[0mlabels\u001b[0m \u001b[0;32mis\u001b[0m \u001b[0;32mNone\u001b[0m\u001b[0;34m:\u001b[0m\u001b[0;34m\u001b[0m\u001b[0;34m\u001b[0m\u001b[0m\n\u001b[1;32m    119\u001b[0m         \u001b[0mclasses\u001b[0m \u001b[0;34m=\u001b[0m \u001b[0munique_labels\u001b[0m\u001b[0;34m(\u001b[0m\u001b[0my_true\u001b[0m\u001b[0;34m,\u001b[0m \u001b[0my_pred\u001b[0m\u001b[0;34m)\u001b[0m\u001b[0;34m\u001b[0m\u001b[0;34m\u001b[0m\u001b[0m\n",
      "\u001b[0;32m//anaconda3/lib/python3.7/site-packages/sklearn/metrics/classification.py\u001b[0m in \u001b[0;36mconfusion_matrix\u001b[0;34m(y_true, y_pred, labels, sample_weight)\u001b[0m\n\u001b[1;32m    251\u001b[0m \u001b[0;34m\u001b[0m\u001b[0m\n\u001b[1;32m    252\u001b[0m     \"\"\"\n\u001b[0;32m--> 253\u001b[0;31m     \u001b[0my_type\u001b[0m\u001b[0;34m,\u001b[0m \u001b[0my_true\u001b[0m\u001b[0;34m,\u001b[0m \u001b[0my_pred\u001b[0m \u001b[0;34m=\u001b[0m \u001b[0m_check_targets\u001b[0m\u001b[0;34m(\u001b[0m\u001b[0my_true\u001b[0m\u001b[0;34m,\u001b[0m \u001b[0my_pred\u001b[0m\u001b[0;34m)\u001b[0m\u001b[0;34m\u001b[0m\u001b[0;34m\u001b[0m\u001b[0m\n\u001b[0m\u001b[1;32m    254\u001b[0m     \u001b[0;32mif\u001b[0m \u001b[0my_type\u001b[0m \u001b[0;32mnot\u001b[0m \u001b[0;32min\u001b[0m \u001b[0;34m(\u001b[0m\u001b[0;34m\"binary\"\u001b[0m\u001b[0;34m,\u001b[0m \u001b[0;34m\"multiclass\"\u001b[0m\u001b[0;34m)\u001b[0m\u001b[0;34m:\u001b[0m\u001b[0;34m\u001b[0m\u001b[0;34m\u001b[0m\u001b[0m\n\u001b[1;32m    255\u001b[0m         \u001b[0;32mraise\u001b[0m \u001b[0mValueError\u001b[0m\u001b[0;34m(\u001b[0m\u001b[0;34m\"%s is not supported\"\u001b[0m \u001b[0;34m%\u001b[0m \u001b[0my_type\u001b[0m\u001b[0;34m)\u001b[0m\u001b[0;34m\u001b[0m\u001b[0;34m\u001b[0m\u001b[0m\n",
      "\u001b[0;32m//anaconda3/lib/python3.7/site-packages/sklearn/metrics/classification.py\u001b[0m in \u001b[0;36m_check_targets\u001b[0;34m(y_true, y_pred)\u001b[0m\n\u001b[1;32m     69\u001b[0m     \u001b[0my_pred\u001b[0m \u001b[0;34m:\u001b[0m \u001b[0marray\u001b[0m \u001b[0;32mor\u001b[0m \u001b[0mindicator\u001b[0m \u001b[0mmatrix\u001b[0m\u001b[0;34m\u001b[0m\u001b[0;34m\u001b[0m\u001b[0m\n\u001b[1;32m     70\u001b[0m     \"\"\"\n\u001b[0;32m---> 71\u001b[0;31m     \u001b[0mcheck_consistent_length\u001b[0m\u001b[0;34m(\u001b[0m\u001b[0my_true\u001b[0m\u001b[0;34m,\u001b[0m \u001b[0my_pred\u001b[0m\u001b[0;34m)\u001b[0m\u001b[0;34m\u001b[0m\u001b[0;34m\u001b[0m\u001b[0m\n\u001b[0m\u001b[1;32m     72\u001b[0m     \u001b[0mtype_true\u001b[0m \u001b[0;34m=\u001b[0m \u001b[0mtype_of_target\u001b[0m\u001b[0;34m(\u001b[0m\u001b[0my_true\u001b[0m\u001b[0;34m)\u001b[0m\u001b[0;34m\u001b[0m\u001b[0;34m\u001b[0m\u001b[0m\n\u001b[1;32m     73\u001b[0m     \u001b[0mtype_pred\u001b[0m \u001b[0;34m=\u001b[0m \u001b[0mtype_of_target\u001b[0m\u001b[0;34m(\u001b[0m\u001b[0my_pred\u001b[0m\u001b[0;34m)\u001b[0m\u001b[0;34m\u001b[0m\u001b[0;34m\u001b[0m\u001b[0m\n",
      "\u001b[0;32m//anaconda3/lib/python3.7/site-packages/sklearn/utils/validation.py\u001b[0m in \u001b[0;36mcheck_consistent_length\u001b[0;34m(*arrays)\u001b[0m\n\u001b[1;32m    203\u001b[0m     \u001b[0;32mif\u001b[0m \u001b[0mlen\u001b[0m\u001b[0;34m(\u001b[0m\u001b[0muniques\u001b[0m\u001b[0;34m)\u001b[0m \u001b[0;34m>\u001b[0m \u001b[0;36m1\u001b[0m\u001b[0;34m:\u001b[0m\u001b[0;34m\u001b[0m\u001b[0;34m\u001b[0m\u001b[0m\n\u001b[1;32m    204\u001b[0m         raise ValueError(\"Found input variables with inconsistent numbers of\"\n\u001b[0;32m--> 205\u001b[0;31m                          \" samples: %r\" % [int(l) for l in lengths])\n\u001b[0m\u001b[1;32m    206\u001b[0m \u001b[0;34m\u001b[0m\u001b[0m\n\u001b[1;32m    207\u001b[0m \u001b[0;34m\u001b[0m\u001b[0m\n",
      "\u001b[0;31mValueError\u001b[0m: Found input variables with inconsistent numbers of samples: [10618, 6000]"
     ]
    }
   ],
   "source": [
    "# plotting confusion matrix\n",
    "\n",
    "\n",
    "skplt.metrics.plot_confusion_matrix(ytrain, predictions, normalize=True)\n",
    "\n",
    "plt.show()"
   ]
  },
  {
   "cell_type": "code",
   "execution_count": null,
   "metadata": {},
   "outputs": [],
   "source": []
  },
  {
   "cell_type": "code",
   "execution_count": 86,
   "metadata": {},
   "outputs": [
    {
     "name": "stdout",
     "output_type": "stream",
     "text": [
      "66.81107553211528 % Training Accuracy\n",
      "0.6270110076206605\n",
      "73.77777777777777 % Validation Accuracy\n",
      "0.4858835831300105\n",
      "73.88333333333334 % Test Accuracy\n",
      "0.49106852874309836\n"
     ]
    }
   ],
   "source": [
    "activation =lrf.sigmoid(xtrain@beta) \n",
    "classes = np.zeros([len(activation)])\n",
    "classes=np.round(activation)\n",
    "print(100*np.sum(classes==ytrain)/len(activation),'% Training Accuracy')\n",
    "print(f1_score(ytrain, classes))\n",
    "\n",
    "activation =lrf.sigmoid(xval@beta) \n",
    "classes = np.zeros([len(activation)])\n",
    "classes=np.round(activation)\n",
    "print(100*np.sum(classes==yval)/len(activation),'% Validation Accuracy')\n",
    "print(f1_score(yval, classes))\n",
    "\n",
    "\n",
    "activation =lrf.sigmoid(xtest@beta) \n",
    "classes = np.zeros([len(activation)])\n",
    "classes=np.round(activation)\n",
    "print(100*np.sum(classes==ytest)/len(activation),'% Test Accuracy')\n",
    "print(f1_score(ytest, classes))\n"
   ]
  },
  {
   "cell_type": "code",
   "execution_count": 91,
   "metadata": {},
   "outputs": [
    {
     "data": {
      "text/plain": [
       "<Figure size 432x288 with 0 Axes>"
      ]
     },
     "metadata": {},
     "output_type": "display_data"
    },
    {
     "data": {
      "image/png": "[encoded data removed]",
      "text/plain": [
       "<Figure size 432x288 with 1 Axes>"
      ]
     },
     "metadata": {
      "needs_background": "light"
     },
     "output_type": "display_data"
    }
   ],
   "source": [
    "# Plotting AUC with Stocastic gradient descent. \n",
    "\n",
    "\n",
    "predictions = xtest@beta\n",
    "y_probas = lrf.sigmoid(predictions)\n",
    "\n",
    "y_probas = y_probas.flatten()\n",
    "y_temp = np.zeros((y_probas.shape[0], 2))\n",
    "y_temp[:,0] = 1-y_probas\n",
    "y_temp[:,1] = y_probas \n",
    "y_probas = y_temp\n",
    "\n",
    "fig = plt.figure()\n",
    "skplt.metrics.plot_cumulative_gain(ytest, y_probas)\n",
    "\n",
    "plt.show()"
   ]
  },
  {
   "cell_type": "code",
   "execution_count": 60,
   "metadata": {},
   "outputs": [
    {
     "name": "stderr",
     "output_type": "stream",
     "text": [
      "//anaconda3/lib/python3.7/site-packages/sklearn/linear_model/logistic.py:432: FutureWarning: Default solver will be changed to 'lbfgs' in 0.22. Specify a solver to silence this warning.\n",
      "  FutureWarning)\n",
      "//anaconda3/lib/python3.7/site-packages/sklearn/utils/validation.py:724: DataConversionWarning: A column-vector y was passed when a 1d array was expected. Please change the shape of y to (n_samples, ), for example using ravel().\n",
      "  y = column_or_1d(y, warn=True)\n"
     ]
    },
    {
     "name": "stdout",
     "output_type": "stream",
     "text": [
      "70.71953286871351 % Training Accuracy\n",
      "77.43333333333334 % Test Accuracy\n"
     ]
    }
   ],
   "source": [
    "\n",
    "model = LogisticRegression()\n",
    "model.fit(xtrain, ytrain)\n",
    "predicted_classes = model.predict(xtrain)\n",
    "accuracy = accuracy_score(ytrain.flatten(),predicted_classes)\n",
    "accuracy = accuracy * 100\n",
    "parameters = model.coef_\n",
    "log_loss(ytrain, predicted_classes)\n",
    "\n",
    "print(accuracy, '% Training Accuracy')\n",
    "\n",
    "predicted_classes = model.predict(xtest)\n",
    "accuracy = accuracy_score(ytest.flatten(),predicted_classes)\n",
    "accuracy = accuracy * 100\n",
    "parameters = model.coef_\n",
    "log_loss(ytest, predicted_classes)\n",
    "\n",
    "print(accuracy, '% Test Accuracy')"
   ]
  },
  {
   "cell_type": "code",
   "execution_count": null,
   "metadata": {},
   "outputs": [],
   "source": []
  },
  {
   "cell_type": "markdown",
   "metadata": {},
   "source": [
    "# C) \n",
    "Neural Network. "
   ]
  },
  {
   "cell_type": "code",
   "execution_count": 19,
   "metadata": {},
   "outputs": [
    {
     "name": "stdout",
     "output_type": "stream",
     "text": [
      "Epoch 0 loss [[0.70471968]]\n",
      "Epoch 1 loss [[0.70340236]]\n",
      "Epoch 2 loss [[0.70284573]]\n",
      "Epoch 3 loss [[0.69936161]]\n",
      "Epoch 4 loss [[0.69968891]]\n",
      "Epoch 5 loss [[0.69807452]]\n",
      "Epoch 6 loss [[0.69855161]]\n",
      "Epoch 7 loss [[0.69674849]]\n",
      "Epoch 8 loss [[0.69685133]]\n",
      "Epoch 9 loss [[0.69490785]]\n",
      "Epoch 10 loss [[0.69285722]]\n",
      "Epoch 11 loss [[0.69393067]]\n",
      "Epoch 12 loss [[0.69489337]]\n",
      "Epoch 13 loss [[0.69261309]]\n",
      "Epoch 14 loss [[0.69307188]]\n",
      "Epoch 15 loss [[0.69210297]]\n",
      "Epoch 16 loss [[0.69225875]]\n",
      "Epoch 17 loss [[0.69210555]]\n",
      "Epoch 18 loss [[0.69053875]]\n",
      "Epoch 19 loss [[0.69152923]]\n",
      "Epoch 20 loss [[0.69187834]]\n",
      "Epoch 21 loss [[0.68841358]]\n",
      "Epoch 22 loss [[0.68863864]]\n",
      "Epoch 23 loss [[0.69017269]]\n",
      "Epoch 24 loss [[0.68906488]]\n",
      "Epoch 25 loss [[0.68920406]]\n",
      "Epoch 26 loss [[0.68916233]]\n",
      "Epoch 27 loss [[0.68952622]]\n",
      "Epoch 28 loss [[0.68934948]]\n",
      "Epoch 29 loss [[0.68918881]]\n",
      "Epoch 30 loss [[0.68865309]]\n",
      "Epoch 31 loss [[0.68965271]]\n",
      "Epoch 32 loss [[0.68793518]]\n",
      "Epoch 33 loss [[0.68815222]]\n",
      "Epoch 34 loss [[0.68757493]]\n",
      "Epoch 35 loss [[0.68679756]]\n",
      "Epoch 36 loss [[0.68795329]]\n",
      "Epoch 37 loss [[0.68924666]]\n",
      "Epoch 38 loss [[0.68791678]]\n",
      "Epoch 39 loss [[0.68833486]]\n",
      "Epoch 40 loss [[0.68848392]]\n",
      "Epoch 41 loss [[0.68685169]]\n",
      "Epoch 42 loss [[0.68601697]]\n",
      "Epoch 43 loss [[0.68469006]]\n",
      "Epoch 44 loss [[0.68670236]]\n",
      "Epoch 45 loss [[0.68810608]]\n",
      "Epoch 46 loss [[0.68775297]]\n",
      "Epoch 47 loss [[0.68573107]]\n",
      "Epoch 48 loss [[0.68543736]]\n",
      "Epoch 49 loss [[0.68588837]]\n",
      "Epoch 50 loss [[0.68511352]]\n",
      "Epoch 51 loss [[0.687155]]\n",
      "Epoch 52 loss [[0.68446102]]\n",
      "Epoch 53 loss [[0.68551921]]\n",
      "Epoch 54 loss [[0.6842023]]\n",
      "Epoch 55 loss [[0.68686449]]\n",
      "Epoch 56 loss [[0.68507248]]\n",
      "Epoch 57 loss [[0.68424295]]\n",
      "Epoch 58 loss [[0.68616948]]\n",
      "Epoch 59 loss [[0.68431878]]\n",
      "Epoch 60 loss [[0.68469965]]\n",
      "Epoch 61 loss [[0.68730364]]\n",
      "Epoch 62 loss [[0.68704462]]\n",
      "Epoch 63 loss [[0.68465058]]\n",
      "Epoch 64 loss [[0.68691741]]\n",
      "Epoch 65 loss [[0.68578212]]\n",
      "Epoch 66 loss [[0.6844069]]\n",
      "Epoch 67 loss [[0.68501443]]\n",
      "Epoch 68 loss [[0.68596183]]\n",
      "Epoch 69 loss [[0.68713313]]\n",
      "Epoch 70 loss [[0.68558732]]\n",
      "Epoch 71 loss [[0.68643938]]\n",
      "Epoch 72 loss [[0.68394424]]\n",
      "Epoch 73 loss [[0.68520172]]\n",
      "Epoch 74 loss [[0.68574636]]\n",
      "Epoch 75 loss [[0.6842198]]\n",
      "Epoch 76 loss [[0.68455948]]\n",
      "Epoch 77 loss [[0.68295882]]\n",
      "Epoch 78 loss [[0.68487486]]\n",
      "Epoch 79 loss [[0.68374165]]\n",
      "Epoch 80 loss [[0.68413099]]\n",
      "Epoch 81 loss [[0.6847975]]\n",
      "Epoch 82 loss [[0.68403619]]\n",
      "Epoch 83 loss [[0.68338188]]\n",
      "Epoch 84 loss [[0.68464964]]\n",
      "Epoch 85 loss [[0.68502939]]\n",
      "Epoch 86 loss [[0.68455732]]\n",
      "Epoch 87 loss [[0.6850175]]\n",
      "Epoch 88 loss [[0.68418357]]\n",
      "Epoch 89 loss [[0.68463183]]\n",
      "Epoch 90 loss [[0.68424296]]\n",
      "Epoch 91 loss [[0.68290787]]\n",
      "Epoch 92 loss [[0.68435819]]\n",
      "Epoch 93 loss [[0.68451881]]\n",
      "Epoch 94 loss [[0.68419299]]\n",
      "Epoch 95 loss [[0.68476767]]\n",
      "Epoch 96 loss [[0.68430342]]\n",
      "Epoch 97 loss [[0.68400357]]\n",
      "Epoch 98 loss [[0.6860566]]\n",
      "Epoch 99 loss [[0.68377127]]\n",
      "Epoch 100 loss [[0.6835616]]\n",
      "Epoch 101 loss [[0.68569291]]\n",
      "Epoch 102 loss [[0.68412029]]\n",
      "Epoch 103 loss [[0.68498813]]\n",
      "Epoch 104 loss [[0.6856474]]\n",
      "Epoch 105 loss [[0.68499237]]\n",
      "Epoch 106 loss [[0.68526461]]\n",
      "Epoch 107 loss [[0.68480303]]\n",
      "Epoch 108 loss [[0.68387426]]\n",
      "Epoch 109 loss [[0.68297276]]\n",
      "Epoch 110 loss [[0.68288358]]\n",
      "Epoch 111 loss [[0.6819536]]\n",
      "Epoch 112 loss [[0.68297838]]\n",
      "Epoch 113 loss [[0.68319225]]\n",
      "Epoch 114 loss [[0.68187538]]\n",
      "Epoch 115 loss [[0.68387237]]\n",
      "Epoch 116 loss [[0.68341318]]\n",
      "Epoch 117 loss [[0.68406434]]\n",
      "Epoch 118 loss [[0.68288742]]\n",
      "Epoch 119 loss [[0.68386244]]\n",
      "Epoch 120 loss [[0.6825654]]\n",
      "Epoch 121 loss [[0.68346993]]\n",
      "Epoch 122 loss [[0.68352337]]\n",
      "Epoch 123 loss [[0.68183814]]\n",
      "Epoch 124 loss [[0.68388272]]\n",
      "Epoch 125 loss [[0.68251292]]\n",
      "Epoch 126 loss [[0.68439794]]\n",
      "Epoch 127 loss [[0.6834956]]\n",
      "Epoch 128 loss [[0.68236889]]\n",
      "Epoch 129 loss [[0.68367758]]\n",
      "Epoch 130 loss [[0.68289605]]\n",
      "Epoch 131 loss [[0.68153996]]\n",
      "Epoch 132 loss [[0.68194191]]\n",
      "Epoch 133 loss [[0.68194896]]\n",
      "Epoch 134 loss [[0.67953166]]\n",
      "Epoch 135 loss [[0.6809075]]\n",
      "Epoch 136 loss [[0.68222126]]\n",
      "Epoch 137 loss [[0.68292426]]\n",
      "Epoch 138 loss [[0.6813788]]\n",
      "Epoch 139 loss [[0.68242067]]\n",
      "Epoch 140 loss [[0.68285659]]\n",
      "Epoch 141 loss [[0.68053584]]\n",
      "Epoch 142 loss [[0.68284861]]\n",
      "Epoch 143 loss [[0.68164068]]\n",
      "Epoch 144 loss [[0.6824602]]\n",
      "Epoch 145 loss [[0.68094709]]\n",
      "Epoch 146 loss [[0.68174062]]\n",
      "Epoch 147 loss [[0.68176612]]\n",
      "Epoch 148 loss [[0.68447983]]\n",
      "Epoch 149 loss [[0.6803111]]\n",
      "Epoch 150 loss [[0.68162798]]\n",
      "Epoch 151 loss [[0.67973314]]\n",
      "Epoch 152 loss [[0.6807551]]\n",
      "Epoch 153 loss [[0.68018785]]\n",
      "Epoch 154 loss [[0.68074955]]\n",
      "Epoch 155 loss [[0.68075796]]\n",
      "Epoch 156 loss [[0.6809662]]\n",
      "Epoch 157 loss [[0.68053294]]\n",
      "Epoch 158 loss [[0.68156886]]\n",
      "Epoch 159 loss [[0.68016258]]\n",
      "Epoch 160 loss [[0.68338341]]\n",
      "Epoch 161 loss [[0.68090561]]\n",
      "Epoch 162 loss [[0.68018538]]\n",
      "Epoch 163 loss [[0.6793327]]\n",
      "Epoch 164 loss [[0.68007827]]\n",
      "Epoch 165 loss [[0.67785391]]\n",
      "Epoch 166 loss [[0.68301014]]\n",
      "Epoch 167 loss [[0.68117798]]\n",
      "Epoch 168 loss [[0.68163116]]\n",
      "Epoch 169 loss [[0.68040144]]\n",
      "Epoch 170 loss [[0.68143246]]\n",
      "Epoch 171 loss [[0.6800905]]\n",
      "Epoch 172 loss [[0.68077759]]\n",
      "Epoch 173 loss [[0.67923675]]\n",
      "Epoch 174 loss [[0.68034358]]\n",
      "Epoch 175 loss [[0.67935133]]\n",
      "Epoch 176 loss [[0.67892768]]\n",
      "Epoch 177 loss [[0.68444741]]\n",
      "Epoch 178 loss [[0.68177381]]\n",
      "Epoch 179 loss [[0.68096179]]\n",
      "Epoch 180 loss [[0.68087188]]\n",
      "Epoch 181 loss [[0.67947658]]\n",
      "Epoch 182 loss [[0.68092974]]\n",
      "Epoch 183 loss [[0.68116045]]\n",
      "Epoch 184 loss [[0.67873598]]\n",
      "Epoch 185 loss [[0.68008954]]\n",
      "Epoch 186 loss [[0.67804993]]\n",
      "Epoch 187 loss [[0.67913073]]\n",
      "Epoch 188 loss [[0.679588]]\n",
      "Epoch 189 loss [[0.67737418]]\n",
      "Epoch 190 loss [[0.68078241]]\n",
      "Epoch 191 loss [[0.67820531]]\n",
      "Epoch 192 loss [[0.68209269]]\n",
      "Epoch 193 loss [[0.67923561]]\n",
      "Epoch 194 loss [[0.68260344]]\n",
      "Epoch 195 loss [[0.6817752]]\n",
      "Epoch 196 loss [[0.67847658]]\n",
      "Epoch 197 loss [[0.67853903]]\n",
      "Epoch 198 loss [[0.67884587]]\n",
      "Epoch 199 loss [[0.68020241]]\n",
      "46.60908007621765\n"
     ]
    }
   ],
   "source": [
    "import NeuralNetwork as nn\n",
    "\n",
    "neural_net = nn.ANN(lmb=1e-4, bias=0, eta=0.1, mode = 'classification')            \n",
    "neural_net.add_layers(n_features=[91,50,50,20], n_neurons = [50,50,20,1] , n_layers=4)\n",
    "\n",
    "x=xtrain\n",
    "y=ytrain\n",
    "\n",
    "activation = [lrf.relu, lrf.relu, lrf.sigmoid, lrf.sigmoid]\n",
    "derivative = [lrf.relu_deriv, lrf.relu_deriv, lrf.sigmoid_deriv, lrf.sigmoid_deriv]\n",
    "\n",
    "start = time.time()\n",
    "\n",
    "\n",
    "epochs=200\n",
    "batch_size=500\n",
    "neural_net.train(epochs, batch_size, x,y,activation,derivative , verbose=True)\n",
    "\n",
    "end = time.time()\n",
    "print(end - start)\n"
   ]
  },
  {
   "cell_type": "code",
   "execution_count": 20,
   "metadata": {},
   "outputs": [
    {
     "name": "stdout",
     "output_type": "stream",
     "text": [
      "[[0.92130395]\n",
      " [0.51053861]\n",
      " [0.81116876]\n",
      " ...\n",
      " [0.34380136]\n",
      " [0.32824439]\n",
      " [0.18566379]]\n",
      "[[1.]\n",
      " [1.]\n",
      " [1.]\n",
      " ...\n",
      " [0.]\n",
      " [0.]\n",
      " [0.]]\n",
      "68.54279686558168 % Training Accuracy\n",
      "[[5231 1405]\n",
      " [2770 3866]]\n"
     ]
    }
   ],
   "source": [
    "activ=neural_net.feed_out(x, activation)['3']\n",
    "print(activ)\n",
    "\n",
    "classes=np.round(activ)\n",
    "print(classes)\n",
    "\n",
    "print(100*np.sum(classes==y)/len(activ),'% Training Accuracy')\n",
    "#print(f1_score(ytrain, classes)) \n",
    "\n",
    "cm = confusion_matrix(y , classes)\n",
    "print(cm)"
   ]
  },
  {
   "cell_type": "code",
   "execution_count": 21,
   "metadata": {},
   "outputs": [
    {
     "name": "stdout",
     "output_type": "stream",
     "text": [
      "[[0.35626146]\n",
      " [0.44784336]\n",
      " [0.33713856]\n",
      " ...\n",
      " [0.4081454 ]\n",
      " [0.35938217]\n",
      " [0.2699401 ]]\n",
      "[[0.]\n",
      " [0.]\n",
      " [0.]\n",
      " ...\n",
      " [0.]\n",
      " [0.]\n",
      " [0.]]\n",
      "74.33333333333333 % Test Accuracy\n",
      "[[4607 1234]\n",
      " [ 691  968]]\n"
     ]
    }
   ],
   "source": [
    "activ=neural_net.feed_out(xtest, activation)['3']\n",
    "print(activ)\n",
    "\n",
    "classes=np.round(activ)\n",
    "print(classes)\n",
    "\n",
    "print(100*np.sum(classes==ytest)/len(activ),'% Test Accuracy')\n",
    "#print(f1_score(ytrain, classes)) \n",
    "\n",
    "cm = confusion_matrix(ytest , classes)\n",
    "print(cm)"
   ]
  },
  {
   "cell_type": "code",
   "execution_count": 22,
   "metadata": {},
   "outputs": [
    {
     "name": "stdout",
     "output_type": "stream",
     "text": [
      "[[0 2]\n",
      " [1 1]]\n"
     ]
    }
   ],
   "source": [
    "cm= confusion_matrix([0, 1, 0, 1], [1, 1, 1, 0])\n",
    "print(cm)"
   ]
  },
  {
   "cell_type": "code",
   "execution_count": 23,
   "metadata": {},
   "outputs": [
    {
     "name": "stdout",
     "output_type": "stream",
     "text": [
      "Iteration 1, loss = 0.60834948\n",
      "Iteration 2, loss = 0.57512584\n",
      "Iteration 3, loss = 0.57085977\n",
      "Iteration 4, loss = 0.56752559\n",
      "Iteration 5, loss = 0.56701042\n",
      "Iteration 6, loss = 0.56355119\n",
      "Iteration 7, loss = 0.56338919\n",
      "Iteration 8, loss = 0.56215064\n",
      "Iteration 9, loss = 0.56181829\n",
      "Iteration 10, loss = 0.56225884\n",
      "Iteration 11, loss = 0.55879918\n",
      "Iteration 12, loss = 0.55862177\n",
      "Iteration 13, loss = 0.55786457\n",
      "Iteration 14, loss = 0.55586010\n",
      "Iteration 15, loss = 0.55459886\n",
      "Iteration 16, loss = 0.55377945\n",
      "Iteration 17, loss = 0.55304435\n",
      "Iteration 18, loss = 0.55318974\n",
      "Iteration 19, loss = 0.55115862\n",
      "Iteration 20, loss = 0.55121872\n",
      "Iteration 21, loss = 0.54828080\n",
      "Iteration 22, loss = 0.54798109\n",
      "Iteration 23, loss = 0.54668282\n",
      "Iteration 24, loss = 0.54711847\n",
      "Iteration 25, loss = 0.54489824\n",
      "Iteration 26, loss = 0.54398157\n",
      "Iteration 27, loss = 0.54392615\n",
      "Iteration 28, loss = 0.54197553\n",
      "Iteration 29, loss = 0.54088333\n",
      "Iteration 30, loss = 0.54039660\n",
      "Iteration 31, loss = 0.53952060\n",
      "Iteration 32, loss = 0.53861316\n",
      "Iteration 33, loss = 0.53843937\n",
      "Iteration 34, loss = 0.53594957\n",
      "Iteration 35, loss = 0.53697602\n",
      "Iteration 36, loss = 0.53597355\n",
      "Iteration 37, loss = 0.53545128\n",
      "Iteration 38, loss = 0.53318378\n",
      "Iteration 39, loss = 0.53483543\n",
      "Iteration 40, loss = 0.53032209\n",
      "Iteration 41, loss = 0.52926314\n",
      "Iteration 42, loss = 0.52717860\n",
      "Iteration 43, loss = 0.52618702\n",
      "Iteration 44, loss = 0.52680978\n",
      "Iteration 45, loss = 0.52634061\n",
      "Iteration 46, loss = 0.52689003\n",
      "Iteration 47, loss = 0.52171525\n",
      "Iteration 48, loss = 0.52311599\n",
      "Iteration 49, loss = 0.52057710\n",
      "Iteration 50, loss = 0.51973221\n",
      "Iteration 51, loss = 0.51829351\n",
      "Iteration 52, loss = 0.52142256\n",
      "Iteration 53, loss = 0.51606411\n",
      "Iteration 54, loss = 0.51789235\n",
      "Iteration 55, loss = 0.51360818\n",
      "Iteration 56, loss = 0.51476794\n",
      "Iteration 57, loss = 0.51261042\n",
      "Iteration 58, loss = 0.50983779\n",
      "Iteration 59, loss = 0.50911880\n",
      "Iteration 60, loss = 0.51051394\n",
      "Iteration 61, loss = 0.50761831\n",
      "Iteration 62, loss = 0.50658653\n",
      "Iteration 63, loss = 0.50636415\n",
      "Iteration 64, loss = 0.50523673\n",
      "Iteration 65, loss = 0.50463001\n",
      "Iteration 66, loss = 0.50108531\n",
      "Iteration 67, loss = 0.50062282\n",
      "Iteration 68, loss = 0.50007545\n",
      "Iteration 69, loss = 0.49950106\n",
      "Iteration 70, loss = 0.49856299\n",
      "Iteration 71, loss = 0.49651327\n",
      "Iteration 72, loss = 0.49620908\n",
      "Iteration 73, loss = 0.49419197\n",
      "Iteration 74, loss = 0.49306453\n",
      "Iteration 75, loss = 0.49587149\n",
      "Iteration 76, loss = 0.49485037\n",
      "Iteration 77, loss = 0.49093365\n",
      "Iteration 78, loss = 0.48952865\n",
      "Iteration 79, loss = 0.49320796\n",
      "Iteration 80, loss = 0.48716100\n",
      "Iteration 81, loss = 0.48633235\n",
      "Iteration 82, loss = 0.48655694\n",
      "Iteration 83, loss = 0.48414211\n",
      "Iteration 84, loss = 0.48368592\n",
      "Iteration 85, loss = 0.48172077\n",
      "Iteration 86, loss = 0.48109633\n",
      "Iteration 87, loss = 0.48066797\n",
      "Iteration 88, loss = 0.48030585\n",
      "Iteration 89, loss = 0.48007629\n",
      "Iteration 90, loss = 0.47852457\n",
      "Iteration 91, loss = 0.47740735\n",
      "Iteration 92, loss = 0.47578281\n",
      "Iteration 93, loss = 0.47534172\n",
      "Iteration 94, loss = 0.47402126\n",
      "Iteration 95, loss = 0.47420046\n",
      "Iteration 96, loss = 0.47473294\n",
      "Iteration 97, loss = 0.47265226\n",
      "Iteration 98, loss = 0.47026638\n",
      "Iteration 99, loss = 0.46877661\n",
      "Iteration 100, loss = 0.47021914\n",
      "Iteration 101, loss = 0.46847759\n",
      "Iteration 102, loss = 0.46720218\n",
      "Iteration 103, loss = 0.46673919\n",
      "Iteration 104, loss = 0.46860398\n",
      "Iteration 105, loss = 0.46566801\n",
      "Iteration 106, loss = 0.46359010\n",
      "Iteration 107, loss = 0.46432858\n",
      "Iteration 108, loss = 0.46298534\n",
      "Iteration 109, loss = 0.46343758\n",
      "Iteration 110, loss = 0.46410684\n",
      "Iteration 111, loss = 0.46105231\n",
      "Iteration 112, loss = 0.45914693\n",
      "Iteration 113, loss = 0.46207152\n",
      "Iteration 114, loss = 0.45749661\n",
      "Iteration 115, loss = 0.45793321\n",
      "Iteration 116, loss = 0.45621438\n",
      "Iteration 117, loss = 0.45339756\n",
      "Iteration 118, loss = 0.45507848\n",
      "Iteration 119, loss = 0.45632896\n",
      "Iteration 120, loss = 0.45446670\n",
      "Iteration 121, loss = 0.45499122\n",
      "Iteration 122, loss = 0.45467588\n",
      "Iteration 123, loss = 0.45302696\n",
      "Iteration 124, loss = 0.45374522\n",
      "Iteration 125, loss = 0.45324597\n",
      "Iteration 126, loss = 0.45115173\n",
      "Iteration 127, loss = 0.44844918\n",
      "Iteration 128, loss = 0.45171431\n",
      "Iteration 129, loss = 0.44669365\n",
      "Iteration 130, loss = 0.44795330\n",
      "Iteration 131, loss = 0.44571695\n",
      "Iteration 132, loss = 0.44940563\n",
      "Iteration 133, loss = 0.44578507\n",
      "Iteration 134, loss = 0.44306722\n",
      "Iteration 135, loss = 0.44089055\n",
      "Iteration 136, loss = 0.44490241\n",
      "Iteration 137, loss = 0.44540295\n",
      "Iteration 138, loss = 0.44114992\n",
      "Iteration 139, loss = 0.44142074\n",
      "Iteration 140, loss = 0.44097000\n",
      "Iteration 141, loss = 0.43761098\n",
      "Iteration 142, loss = 0.44136785\n",
      "Iteration 143, loss = 0.43944909\n",
      "Iteration 144, loss = 0.43920973\n",
      "Iteration 145, loss = 0.43766194\n",
      "Iteration 146, loss = 0.44294645\n",
      "Iteration 147, loss = 0.43905561\n",
      "Iteration 148, loss = 0.43464950\n",
      "Iteration 149, loss = 0.43678461\n",
      "Iteration 150, loss = 0.43356436\n",
      "Iteration 151, loss = 0.43512536\n",
      "Iteration 152, loss = 0.43444558\n",
      "Iteration 153, loss = 0.43942570\n",
      "Iteration 154, loss = 0.43319088\n",
      "Iteration 155, loss = 0.43307460\n",
      "Iteration 156, loss = 0.43407330\n",
      "Iteration 157, loss = 0.43235361\n",
      "Iteration 158, loss = 0.42944118\n",
      "Iteration 159, loss = 0.43109136\n",
      "Iteration 160, loss = 0.43624788\n",
      "Iteration 161, loss = 0.43001741\n",
      "Iteration 162, loss = 0.42799048\n",
      "Iteration 163, loss = 0.42830846\n",
      "Iteration 164, loss = 0.42699003\n",
      "Iteration 165, loss = 0.42382159\n",
      "Iteration 166, loss = 0.42667303\n",
      "Iteration 167, loss = 0.42507145\n",
      "Iteration 168, loss = 0.42889577\n",
      "Iteration 169, loss = 0.42312065\n",
      "Iteration 170, loss = 0.42240269\n",
      "Iteration 171, loss = 0.41768781\n",
      "Iteration 172, loss = 0.42519898\n",
      "Iteration 173, loss = 0.42179594\n",
      "Iteration 174, loss = 0.42140232\n",
      "Iteration 175, loss = 0.42138790\n",
      "Iteration 176, loss = 0.42149321\n",
      "Iteration 177, loss = 0.42137940\n",
      "Iteration 178, loss = 0.42643249\n",
      "Iteration 179, loss = 0.41894162\n",
      "Iteration 180, loss = 0.42093368\n",
      "Iteration 181, loss = 0.41854323\n",
      "Iteration 182, loss = 0.42090127\n",
      "Training loss did not improve more than tol=0.000100 for 10 consecutive epochs. Stopping.\n",
      "Training set score: 0.796037\n",
      "Test set score: 0.745067\n"
     ]
    }
   ],
   "source": [
    "from sklearn.neural_network import MLPClassifier\n",
    "\n",
    "\n",
    "mlp = MLPClassifier(hidden_layer_sizes=(50,50,20,), max_iter=200, alpha=1e-4,\n",
    "                    solver='sgd', verbose=10, tol=1e-4, random_state=1,\n",
    "                    learning_rate_init=.1)\n",
    "\n",
    "mlp.fit(x, y.ravel())\n",
    "print(\"Training set score: %f\" % mlp.score(x, y))\n",
    "print(\"Test set score: %f\" % mlp.score(xtest, ytest))\n",
    "\n"
   ]
  },
  {
   "cell_type": "code",
   "execution_count": 24,
   "metadata": {},
   "outputs": [
    {
     "name": "stdout",
     "output_type": "stream",
     "text": [
      "79.6036769138035\n",
      "[[5602 1034]\n",
      " [1673 4963]]\n"
     ]
    }
   ],
   "source": [
    "pred = mlp.predict(x)\n",
    "accuracy = accuracy_score(y.flatten(),pred)\n",
    "accuracy = accuracy * 100\n",
    "print(accuracy)\n",
    "\n",
    "cm = confusion_matrix(y , pred)\n",
    "print(cm)"
   ]
  },
  {
   "cell_type": "code",
   "execution_count": 25,
   "metadata": {},
   "outputs": [
    {
     "name": "stdout",
     "output_type": "stream",
     "text": [
      "74.50666666666666\n",
      "[[4349 1492]\n",
      " [ 420 1239]]\n"
     ]
    }
   ],
   "source": [
    "pred = mlp.predict(xtest)\n",
    "accuracy = accuracy_score(ytest.flatten(),pred)\n",
    "accuracy = accuracy * 100\n",
    "print(accuracy)\n",
    "\n",
    "cm = confusion_matrix(ytest , pred)\n",
    "print(cm)"
   ]
  },
  {
   "cell_type": "code",
   "execution_count": null,
   "metadata": {},
   "outputs": [],
   "source": []
  },
  {
   "cell_type": "code",
   "execution_count": null,
   "metadata": {},
   "outputs": [],
   "source": []
  }
 ],
 "metadata": {
  "kernelspec": {
   "display_name": "Python 3",
   "language": "python",
   "name": "python3"
  },
  "language_info": {
   "codemirror_mode": {
    "name": "ipython",
    "version": 3
   },
   "file_extension": ".py",
   "mimetype": "text/x-python",
   "name": "python",
   "nbconvert_exporter": "python",
   "pygments_lexer": "ipython3",
   "version": "3.7.3"
  }
 },
 "nbformat": 4,
 "nbformat_minor": 2
}
