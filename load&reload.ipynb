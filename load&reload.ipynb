{
 "cells": [
  {
   "cell_type": "code",
   "execution_count": null,
   "metadata": {},
   "outputs": [],
   "source": [
    "def load_and_reload():\n",
    "    '''\n",
    "    the code below automatically reload modules that\n",
    "    have being changed when you run any cell.\n",
    "    If you want to call in directly from a notebook you\n",
    "    can use:\n",
    "    Example\n",
    "    ---\n",
    "    >>> %load_ext autoreload\n",
    "    >>> %autoreload 2\n",
    "    '''\n",
    "    from IPython import get_ipython\n",
    "\n",
    "    try:\n",
    "        _ipython = get_ipython()\n",
    "        _ipython.magic('load_ext autoreload')\n",
    "        _ipython.magic('autoreload 2')\n",
    "    except:\n",
    "        # in case we are running a script\n",
    "        pass\n",
    "\n",
    "\n",
    "load_and_reload()"
   ]
  }
 ],
 "metadata": {
  "kernelspec": {
   "display_name": "Python 3",
   "language": "python",
   "name": "python3"
  },
  "language_info": {
   "codemirror_mode": {
    "name": "ipython",
    "version": 3
   },
   "file_extension": ".py",
   "mimetype": "text/x-python",
   "name": "python",
   "nbconvert_exporter": "python",
   "pygments_lexer": "ipython3",
   "version": "3.7.3"
  }
 },
 "nbformat": 4,
 "nbformat_minor": 2
}
